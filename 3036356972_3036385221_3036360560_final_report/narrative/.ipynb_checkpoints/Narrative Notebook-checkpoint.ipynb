{
 "cells": [
  {
   "cell_type": "markdown",
   "metadata": {},
   "source": [
    "# How is COVID-19 affected by Policy and Climate\n"
   ]
  },
  {
   "cell_type": "markdown",
   "metadata": {},
   "source": [
    "### *Collaborators: Sophie Wu, Carol Yan, Ada Sun*"
   ]
  },
  {
   "cell_type": "markdown",
   "metadata": {},
   "source": [
    "## Abstract\n",
    "Understanding how COVID-19 is affected by policy regulations and climate factors is a central objective to devise efficient and scientific mitigation methods to contain and control the spread of this pandemic. In our research, we investigated the correlation between the daily increases of COVID cases across all 50 states in the United States and the policy features such as requirements for wearing masks, level of strictness of business shutdowns, and the level of stay at home orders, as well as the ecological features such as temperature, precipitation, and climate regions. We demonstrated that there are slight associations between these features with the COVID case numbers, but the features we selected are not strong enough to create a reliable and robust model to predict the COVID cases. \n",
    "\n",
    "## Introduction \n",
    "COVID-19 has rapidly become a severe global public health problem and ravaged almost every country in the world. It has infected 12.6 million people and caused 259 thousand deaths in the United States as of November 24, and the number of new cases each day showed no sign of slowing down. Urgent mitigation methods are needed but much still remains unknown about the disease. Most states have enforced regulations such as the requirement for masks, the shut down of non-essential businesses, and curfews. However, extensive and convincing scientific knowledge that shows the effectiveness of these precautionary measures is still lacking.  In addition, there have been speculations that environmental features may impact the virulence and onset of COVID-19 (Xie &Zhu, 2020; Ma & Zhao, 2020) but no definitive conclusions have been acknowledged worldwide. In our project, we sought to explore the effects of policies and ecological factors on the spread of COVID-19 by trying to address three research questions: \n",
    "      "
   ]
  },
  {
   "cell_type": "markdown",
   "metadata": {},
   "source": [
    "- Whether there is a clear correlation between the state policies and the COVID cases in each state. \n",
    "- Whether there is a clear correlation between the number of confirmed COVID-19 cases per capita and ecological features such as temperature, precipitation, and climate regions. \n",
    "- Are state policies and weather features sufficient to predict the daily increase of COVID-19 and, subsequently, shed light upon possible strategies for controlling and mitigating the pandemic."
   ]
  },
  {
   "cell_type": "markdown",
   "metadata": {},
   "source": [
    "Firstly, we carried out exploratory data analysis on the COVID-19 datasets. We noticed an interesting association between state and mortality rate through time. We then explored the relationship between the number of COVID cases and the political party preference of the state. We further analyzed the policies adopted by each state and explored whether these restrictions contribute to the different COVID case increase in each state. \n",
    "Secondly, we focused on climate data and showed that there is no strong correlation between temperature and precipitation. We examined the effects of precipitation, temperature, and climate regions on the daily increase of COVID cases. \n",
    "Lastly, we built correlation visualization for feature selection and developed different classification models, including logistic regression, random forest, KNN, and SVM to draw conclusions and predict the clustered outcomes. \n",
    "\n"
   ]
  },
  {
   "cell_type": "markdown",
   "metadata": {},
   "source": [
    "## Description of data"
   ]
  },
  {
   "cell_type": "markdown",
   "metadata": {},
   "source": [
    "We procured datasets for daily COVID-19 reports from each state in the United States from Data100 Datahub. These datasets detail the name of the region, the last update time, latitude, longitude of the state, accumulated confirmed cases in each state, the number of deaths, number of recovered cases, number of currently active cases, FIPS, incident rate, number of people tested, number of people hospitalized on the day of reporting, mortality rate, testing rate, and hospitalization rate. Some other identification features are irrelevant to COVID status in each state, and we will clean those features as described in the method section. These datasets cover the time range from April 12, 2020, to November 4, 2020. \n",
    "For the purpose of investigating climate features, we obtained data for daily global weather of the year 2020 from the Data100 Datahub. This dataset contains the date the measurements were taken, the station that took these measurements, latitude, longitude, and elevation of the stations, the amount of precipitation measured in tenths of millimeters of water equivalent, and most importantly, the average temperature of the day in tenths of degree Celcius. The entire dataset contains 1,064,283 data entries from 4970 stations worldwide. It covers from January 1 to October 22 in 2020.<br />\n",
    "\n",
    "We also found an additional dataset for the population in each state ([link to the Kaggle dataset](https://www.kaggle.com/lucasvictor/us-state-populations-2018)). There are two columns and 51 rows in this dataset. The columns are the name of each state and the population in that state.<br />\n",
    "\n",
    "In terms of policies implemented by each state, we, unfortunately, failed to find a complete dataset that details the regulations and their effective time period. We manually added the policy data, namely the level of mask requirement, the level of the business shutdown, the level of stay-at-home orders, based on the [New York Times report](https://www.nytimes.com/interactive/2020/us/states-reopen-map-coronavirus.html) that entails only the current policies instead of the historical policies starting from April. We were very aware that this may introduce significant bias and decrease the accuracy if we are to use these features to train our model, but we decided that these current policy restrictions reflect the state's awareness and willingness to take action on the government level and may prove useful in our analysis. As shown later in this report, we will take extreme caution when analyzing these data and interpreting possible consequences.  "
   ]
  },
  {
   "cell_type": "markdown",
   "metadata": {},
   "source": [
    "## Methods\n",
    "### *Cleaning of COVID datasets*\n",
    "In order to explore the change of the number of COVID-19 cases over time, we first set out to combine all the separate COVID datasets with the additional column “Date”. However, we noticed that in those separate datasets, there were several missing values in the “Last_Updated” column. Therefore, we decided to add the date information contained in the CSV filename as the “Date” column in our combined dataset. Upon closer examination, we also noticed that there are only accumulated numbers of confirmed, deaths, and tested cases in our dataset. To better explore the effects of policy and weather features on COVID on a daily basis, we calculated the daily increase, daily deaths, and daily tested data by calculating the difference between that of the current date and the previous date. Furthermore, in order to take out the factor of the population in each state and normalize the data for better comparison, we used the US State Population dataset to calculate the number of confirmed COVID cases per 100k population in each state.  \n",
    "\n",
    "\n",
    "### *Integration of policy scores on COVID dataset*\n",
    "Upon noticing the difference in COVID increase in each state, we started to examine the effects of policies on the transmission of COVID. Firstly, we investigated the political attitudes of each state by joining a Series denoting whether the state voted for the Republican party in the Presidential Election 2020. <br />\n",
    "Moreover, we looked into state-specific policy regulations, namely the requirement of wearing a mask, the requirement of the business shutdowns, and the requirement to stay at home. We assigned each state a score representing the strict level of these policies. Specifically, for mask policy, 0 score represents no restrictions; 1 score represents sometimes required; 2 score represents mandatory at all times. Similarly, for business policy, 0 represents the majority of businesses are mostly open; 2 represents non-essential businesses are mostly closed; 1 represents a middle ground between 1 and 2. For stay at home policy, 0 represents no restrictions, 1 represents advisory and 2 represents strict order for curfew. \n",
    "\n",
    " \n",
    "### *Integration of climate data on COVID dataset*\n",
    "Firstly, we loaded the climate dataset from daily_global_weather_2020.csv and installed the reverse_geocoder package to generate the specific location information (city name, state name, country name) based on the latitude and longitude values. After rename all the default columns, we merged these two datasets based on the index and filtered the country name as the US. <br />\n",
    "Next, we clustered different states based on climate regions analysis, that  National Centers for Environmental Information scientists have identified nine climatically consistent regions within the contiguous United States which are useful for putting current climate anomalies into a historical perspective. Then we organized each state into its region division and mapped the dictionary data structure into our US location dataset. \n",
    "\n",
    "![figure 1](../figures/Table1.png)\n",
    "\n",
    "*Table 1.Filtered US Climate Dataset* \n",
    "\n",
    "Our team explored the merged station reporting data through grouping by different features and found out that the climate data with PRCP and TAVG is not consistent throughout 2020.  Some of the stations in a specific state only have reported data within one month, such as the one named USW00013880 only has reported the data in October. Due to the original inconsistent data pattern, we need to find an approach to avoid losing some information on the trend prediction with the climate data. In order to merge with the following covid dataset, we clustered the data based on its date and used the mean to calculate the average temperature and precipitation. "
   ]
  },
  {
   "cell_type": "markdown",
   "metadata": {},
   "source": [
    "### *Model prediction of COVID daily increase*\n",
    "\n",
    "First of all, we merged the US climate dataset with the COVID dataset on the key of state and date. We chose to implement the inner join, which removed the null values from our final dataset, therefore, we avoided the impact from inconsistent climate data. Since the date for the COVID dataset is through April to October, our final merged dataset only has 9625 rows. We selected the potential features from the dataframe and binarized the column Daily_Increase as a targeted variable for our classification model. We transformed the climate region, mask, businesses, and republican features into multi-class data using the one-hot encoding method. Then we built a correlation heatmap based on our independent and dependent variables to visualize the strongest and the weakest pair, also to analyze the correlation relationship between these variables.  <br />\n",
    "From the heatmap, we can tell there is no strong correlation relationship between the variables, however, there are some interesting patterns among dependent variables. \n",
    "\n",
    "![figure 1](../figures/Figure1.png)\n",
    "\n",
    "*Figure 1. Correlation Heatmap between climate and covid variables*"
   ]
  },
  {
   "cell_type": "markdown",
   "metadata": {},
   "source": [
    "## Results & Discussion\n",
    "### *EDA of COVID datasets*\n",
    "\n",
    "First, we investigated if there are any notable differences in mortality rates in different states and the result is rather surprising. As shown in figure 2, each state clearly has some features that greatly affected the COVID mortality rates as the difference is rather big: from around 0.5% in Alaska to almost 7% in New Jersey. We observed that the states with the highest mortality rates are those that are most affected by COVID in the first few months of the outbreak in the U.S. It is reasonable to believe that such high mortality rates are partially due to the lack of understanding and treatment experience of such disease. It is also possible that in the first few months, the testing kits are in high demand and thus only the patients with severe symptoms are tested and treated, leading to skewed mortality rates. We tested and confirmed this assumption by plotting the change of mortality rates against time as shown in figure 3, where the mortality rates quickly rose from April to June, the first three months of the U.S. COVID outbreak. In accordance with our speculation, Liang, Tseung, and Wu (2020) showed that the COVID mortality rate is negatively associated with the number of tests conducted using the data. In addition, it is shown that other factors such as age distribution, healthcare resource and quality, and sex distribution may greatly influence the mortality rates as well (Liang, Tseung & Wu, 2020; Mohamed et al, 2020). We deemed further analysis of features affecting the mortality rates out of the scope of our project, but it is an interesting topic that requires future investigation. \n",
    "\n",
    "![figure 1](../figures/Figure2.png)\n",
    "\n",
    "*Figure 2. Mortality rate by different states*\n",
    "\n",
    "![figure 1](../figures/Figure3.png)\n",
    "\n",
    "*The change of mortality rates in the U.S from April 2020 to November 2020*\n",
    "\n",
    "Furthermore, because the outbreak seems to be the most severe in metropolitan cities such as Wuhan and New York, we looked into where there is any correlation between population and the daily increases or daily deaths of COVID cases. Figure 4 clearly indicates a positive association. Thus, we believe that the population can be a useful feature to include in our final model to predict the daily increase of COVID cases. However, we also realize that the estimation line in figure 4 can be easily skewed and changed by the four \"outliers\": the four states with huge populations. Thus, how strong the population feature will be in our final model needs further investigation later. \n",
    "\n",
    "![figure 1](../figures/Figure4-1.png)\n",
    "![figure 1](../figures/Figure4-2.png)\n",
    "\n",
    "*Figure 4. Correlation between population and daily death & daily increase*\n",
    "\n",
    "### *Effects of policy scores on COVID daily increase*\n",
    "\n",
    "As indicated in Figure 5, we compared the confirmed COVID-19 cases per 100,000 population over time in states voted for different parties. We noticed that at the beginning of the outbreak (April to July), states voted for the Democrat party had more cases per 100k, while in the later stage (August until now), states voted for the Republican party had more cases per 100k. We hypothesize that most blue states are located near either coast, where transportation is more developed and the influx of people from all over the world is huge. These are in general bigger cities and economic centers. Therefore, in the early stage of the pandemic, the COVID spread from other countries to the US through the airports and boats to these states and thus causing higher case numbers in blue states. However, due to the difference in political views and treatments towards COVID-19 as the democratic states tend to be more cautious, and the republican states have more slack rules, the numbers of cases per 100K population in red states gradually exceeds those of blue states around August.  \n",
    "\n",
    "![figure 1](../figures/Figure5.png)\n",
    "*Figure 5. Number of COVID cases per capita for republican and democratic states*\n",
    "\n",
    "Additionally, we thoroughly inspected the effects of policy scores on COVID cases in different states. For mask restrictions, no restriction states surprisingly have the lowest mean cases per 100k population, while \"sometimes required\" states have the highest. However, because the deviation is quite large, we cannot conclude any statistically significant difference in terms of mask policies. We reason that states with no restrictions showed low case numbers because there are other more dominant factors in play, such as population densities. The \"mandatory\" states that showed some extremely high case numbers may be due to the fact that it is these high case numbers in the first place that forced the governments to implement these strict regulations. In general, there is no clear association between the strictness of mask policies and COVID case numbers. Similarly, business opening regulations and stay-at-home restrictions also showed merely a slight difference in the mean of case numbers. From these visualizations alone, we incline to conclude that these policies play a small or even negligible role in determining the COVID case number. However, we also kept in mind that our policy scores are applied to the entire state data because we could not find the specific date that these policies are implemented in each state, which very likely introduced bias and decreased the actual importance of these policy features.  Given that a lot of other research demonstrated that such policies do have an important impact on the spread of COVID (Howard et al, 2020; Das et al, 2020), we decided to still take these policy scores into account while training our model.  \n",
    "\n",
    "![figure 1](../figures/Figure6-1.png)\n",
    "![figure 1](../figures/Figure6-2.png)\n",
    "![figure 1](../figures/Figure6-3.png)\n",
    "\n",
    "*Figure 6. Effects of policy strictness on COVID Cases per 100K population*"
   ]
  },
  {
   "cell_type": "markdown",
   "metadata": {},
   "source": [
    "### *Effects of ecological factors on COVID cases*\n",
    "\n",
    "We also applied similar methods to explore the correlation between climate data and the daily reported cases of COVID-19. As shown in Figure 7 and Figure 8 below, we observed that temperature can influence the spread of COVID-19. When the temperature is lower, the average number of COVID-19 cases is lower in general, which corresponds to the conclusion made in another research paper - “Maximum temperature and normal temperature are positively associated with covid-19” (Menebo 2020). However, we did not think precipitation has a big influence on the spread of COVID-19 because the average numbers of cases are very similar under different amounts of precipitation. Though we didn’t see a strong correlation between precipitation and COVID, we still decided to include it in our final model because a lot of other research demonstrated an association between them (Menebo 2020). \n",
    "\n",
    "![](../figures/Figure7.png)\n",
    "*Figure 7. Correlation of temperatures on average cases per 100k population*\n",
    "\n",
    "![](../figures/Figure8.png)\n",
    "*Figure 8. Correlation of precipitation on average cases per 100k population*\n",
    "\n",
    "Similarly, we inspected the daily reported COVID-19 cases in different climate regions. As shown in Figure 9, it shows a slight difference in the average number of cases per 100K in different climate regions, but the overall distributions are pretty similar to each other. We decided to incorporate climate regions as a feature in our training data because different states in the same climate region have similar climate. \n",
    "\n",
    "![](../figures/Figure9.png)\n",
    "*Figure 9. Effects of climate region on COVID cases per 100k population*"
   ]
  },
  {
   "cell_type": "markdown",
   "metadata": {},
   "source": [
    "### *Model prediction of COVID daily increase*\n",
    "\n",
    "We built several classification models for training our labeled data, including Logistic Regression, Random Forest, K-nearest neighbor, and Support Vector Machine. We implemented the sklearn model selection package to split the dataset into 70% training and 30% testing parts. The highest accuracy among these models is K-nearest neighbor, which is 0.504 and the other model accuracy results are around 0.49. Also, we implemented a confusion matrix with precision and recall to check the imbalanced data issue, which our input data looks balanced with relatively low bias and variance with the Random Forest model. Based on the classification report, we can tell the logistic regression model doesn’t perform well compared with other ones. We also plotted the ROC curves and calculated the mean AUC scores, according to the plot below our models do not perform well. Based on our previous discussion and assumption on the feature selection issue, which can explain the accuracy of our modeling outcome. \n",
    "\n",
    "![](../figures/Figure10.png)\n",
    "*Figure 10. ROC curve for the classification model*\n",
    "\n",
    "![](../figures/Table2.png)\n",
    "*Table 2. Classification Model report*\n",
    "\n",
    "We applied statsmodels library to generate model summary results. According to the coefficient records, we can tell the weights of different features and how much each of them impacts the dependent variable as Daily_Increase. \n",
    "\n",
    "![](../figures/Table3.png)\n",
    "*Table 3. Logit Result Summary*"
   ]
  },
  {
   "cell_type": "markdown",
   "metadata": {},
   "source": [
    "### *Causal Reference Analysis*\n",
    "\n",
    "Causal inference is the process of drawing a conclusion about a causal connection based on the conditions of the occurrence of an effect. The difference between causation and correlation is that causation explicitly applies to cases where action A causes outcome B. On the other hand, correlation is simply a relationship. Action A relates to Action B, but one event doesn’t necessarily cause the other event to happen.\n",
    "\n",
    "Criteria for establishing causal relationships include:\n",
    "\n",
    "- Demonstrate association: Is there a relationship between the independent variable and the dependent variable? (correlation)\n",
    "- Eliminate confounding influence: For example, in the graph below, a confounding variable Z has an influence on both the explanatory variable X and the response Y. In this case, even though we found a relationship between X and Y, we cannot state that X has a causal effect on Y. To eliminate the confounding influence, we need to hold the confounding variable constant in our analyses.\n",
    "\n",
    "![](../figures/Figure11.png)\n",
    "*Figure 11. Causal Graph*\n",
    "\n",
    "![](../figures/Figure12.png)\n",
    "*Figure 12. Steigera 2020 Graph*\n",
    "\n",
    "According to the graph (Steigera 2020) above, we can see that the COVID-19 burden has an influence on both the state restrictions (mask, businesses, stay-at-home) and the spread of COVID-19 in each state. When the burden of COVID-19 is heavier in one state, it is more likely for the state to release restrictions. Also, wind influences both the temperature and the spread of COVID-19. Therefore, COVID-19 burden and wind have confounding influences on the problem we are exploring. We cannot conclude there is a causal effect between climate, political restrictions, and the spread of COVID-19."
   ]
  },
  {
   "cell_type": "markdown",
   "metadata": {},
   "source": [
    "## Summary\n",
    "\n",
    "COVID-19 is a very complicated issue that has been studied by the entire world for nearly one year. Besides the features we explored in this project, many other factors, such as the population age distributions, socioeconomic status, access to tests, and mobility, also play a significant role in the reported cases of COVID-19. Based on the data analysis and modeling shown above, we concluded that there is some correlation between the state policies and the COVID-19 cases in each state, as well as between the temperature and the COVID-19 cases. However, the correlations are not significant enough and those features are not sufficient to predict the daily increase of COVID-19. \n",
    "\n",
    "There is much about COVID-19 that the world has yet to explore and understand, and further research is urgently needed more than ever. In our project, we noticed a clear difference in mortality rates in different states and it would be crucial for future work to investigate the factors leading to this difference. Also, although our model is not strong enough to predict the increase of COVID cases due to the lack of reliable data and stronger features, we urge others to learn from our progress and strive to build a strong and robust model. "
   ]
  },
  {
   "cell_type": "markdown",
   "metadata": {},
   "source": [
    "## Reference\n",
    "\n",
    "Das, S. K., Alam, J. E., Plumari, S., & Greco, V. (2020). Transmission of airborne virus through sneezed and coughed droplets. Physics of Fluids, 32(9), 097102.\n",
    "\n",
    "Howard, J., Huang, A., Li, Z., Tufekci, Z., Zdimal, V., van der Westhuizen, H. M., ... & Tang, V. (2020). Face masks against COVID-19: an evidence review.\n",
    "\n",
    "Liang, L. L., Tseng, C. H., Ho, H. J., & Wu, C. Y. (2020). Covid-19 mortality is negatively associated with test number and government effectiveness. Scientific reports, 10(1), 1-7.\n",
    "\n",
    "Ma, Y., Zhao, Y., Liu, J., He, X., Wang, B., Fu, S., ... & Luo, B. (2020). Effects of temperature variation and humidity on the death of COVID-19 in Wuhan, China. Science of The Total Environment, 138226.\n",
    "\n",
    "Mohamed, M. O., Gale, C. P., Kontopantelis, E., Doran, T., de Belder, M., Asaria, M., ... & Denwood, T. (2020, October). Sex Differences in Mortality Rates and Underlying Conditions for COVID-19 Deaths in England and Wales. In Mayo Clinic Proceedings (Vol. 95, No. 10, pp. 2110-2124). Elsevier.\n",
    "\n",
    "Menebo, M. (2020). Temperature and precipitation associate with Covid-19 new daily cases: A correlation study between weather and Covid-19 pandemic in Oslo, Norway.\n",
    "Steiger, E., Mussgnug, T., & Kroll, L. E. (2020). Causal analysis of COVID-19 observational data in German districts reveals effects of mobility, awareness, and temperature. doi:10.1101/2020.07.15.20154476\n",
    "Xie, J., & Zhu, Y. (2020). Association between ambient temperature and COVID-19 infection in 122 cities from China. Science of the Total Environment, 724, 138201."
   ]
  }
 ],
 "metadata": {
  "kernelspec": {
   "display_name": "Python 3",
   "language": "python",
   "name": "python3"
  },
  "language_info": {
   "codemirror_mode": {
    "name": "ipython",
    "version": 3
   },
   "file_extension": ".py",
   "mimetype": "text/x-python",
   "name": "python",
   "nbconvert_exporter": "python",
   "pygments_lexer": "ipython3",
   "version": "3.7.7"
  }
 },
 "nbformat": 4,
 "nbformat_minor": 4
}
